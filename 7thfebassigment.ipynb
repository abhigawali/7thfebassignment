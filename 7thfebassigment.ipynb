{
 "cells": [
  {
   "cell_type": "markdown",
   "id": "c217999a-f39b-4e65-bab3-f30c0960a7b0",
   "metadata": {},
   "source": [
    "Q1. You are writing code for a company. The requirement of the company is that you create a python function that will check whether the password entered by the user is correct or not. The function should take the password as input and return the string “Valid Password” if the entered password follows the below-given password guidelines else it should return “Invalid Password”.\n",
    "Note: 1. The Password should contain at least two uppercase letters and at least two lowercase letters.\n",
    "The Password should contain at least a number and three special characters.\n",
    "The length of the password should be 10 characters long."
   ]
  },
  {
   "cell_type": "code",
   "execution_count": 2,
   "id": "776d8870-d3d1-436b-933c-aafe52c74117",
   "metadata": {},
   "outputs": [
    {
     "name": "stdin",
     "output_type": "stream",
     "text": [
      "Enter Your Password WEty5@#$\n"
     ]
    },
    {
     "name": "stdout",
     "output_type": "stream",
     "text": [
      "Invalid Password\n"
     ]
    }
   ],
   "source": [
    "N_symbol=\"ABCDEFGHIJKLMNOPQRSTUVWXYZ\"\n",
    "check=input(\"Enter Your Password\")\n",
    "def Password(check):\n",
    "    c_upper,c_lower,num,special=0,0,0,0\n",
    "    if len(check)>=10:\n",
    "        for i in check:\n",
    "            n=0\n",
    "            for j in N_symbol:\n",
    "                # Count How many Special character in Password \n",
    "                if i!= j and i.upper()!=j and not(i.isnumeric()):\n",
    "                    n+=1\n",
    "                    # print(i,j,p)\n",
    "                    if n>25 :\n",
    "                        special+=1\n",
    "                        # print(i,special)\n",
    "                # Count How many Upper Lower Case \n",
    "                elif i==j:\n",
    "                    c_upper+=1\n",
    "                    # print(i,c_upper)\n",
    "                # Count How many Lower Cass    \n",
    "                elif i==j.lower():\n",
    "                    c_lower+=1\n",
    "                    # print(i,c_lower)\n",
    "            # Count How many Number    \n",
    "            if i.isnumeric():\n",
    "                num+=1\n",
    "                # print(i,num)\n",
    "        # Check Condition (:-Note)\n",
    "        # * Two Upper Case & Two lower Case\n",
    "        # * A Number & Three Special Sharacters\n",
    "        if c_upper>=2 and c_lower>=2 and num>=1 and special>=3 :\n",
    "            print('Valid Password')\n",
    "            # print(f\"Upper={c_upper}| Lower={c_lower}| Special={special}| Number={num}\") \n",
    "        else :\n",
    "            print('Invalid Password')\n",
    "            \n",
    "    else :\n",
    "        print('Invalid Password')\n",
    "                \n",
    "Password(check)"
   ]
  },
  {
   "cell_type": "markdown",
   "id": "7df7cc3d-101f-42b9-aa66-21e665b47d7c",
   "metadata": {},
   "source": [
    "Q2. Solve the below-given questions using at least one of the following:\n",
    "Lambda function\n",
    "Filter function\n",
    "Zap function\n",
    "List ComprehensioI\n",
    "Check if the string starts with a particular letter.\n",
    "Check if the string is numeric.\n",
    "Sort a list of tuples having fruit names and their quantity. [(\"mango\",99),(\"orange\",80), (\"grapes\", 1000)]\n",
    "Find the squares of numbers from 1 to 10.\n",
    "Find the cube root of numbers from 1 to 10.\n",
    "Check if a given number is even.\n",
    "Filter odd numbers from the given list.[1,2,3,4,5,6,7,8,9,10]\n",
    "Sort a list of integers into positive and negative integers lists.[1,2,3,4,5,6,-1,-2,-3,-4,-5,0]"
   ]
  },
  {
   "cell_type": "code",
   "execution_count": 3,
   "id": "309a892b-f2c6-4dda-a233-cdbd7f694900",
   "metadata": {},
   "outputs": [
    {
     "data": {
      "text/plain": [
       "True"
      ]
     },
     "execution_count": 3,
     "metadata": {},
     "output_type": "execute_result"
    }
   ],
   "source": [
    "# Check if the string starts with a particular letter.\n",
    "s= \"Anant is a Developer\"\n",
    "True if s[0]==\"A\" else False"
   ]
  },
  {
   "cell_type": "code",
   "execution_count": 4,
   "id": "8951fb41-48bc-40d7-a799-7fae96a188d5",
   "metadata": {},
   "outputs": [
    {
     "data": {
      "text/plain": [
       "['2', '5', '1', '4']"
      ]
     },
     "execution_count": 4,
     "metadata": {},
     "output_type": "execute_result"
    }
   ],
   "source": [
    "#Check if the string is numeric.\n",
    "s=\"abc2514d\"\n",
    "list(filter(lambda x: x.isnumeric(), s))"
   ]
  },
  {
   "cell_type": "code",
   "execution_count": 5,
   "id": "e0f63da3-2a0a-41df-9595-fb91877a9387",
   "metadata": {},
   "outputs": [
    {
     "data": {
      "text/plain": [
       "False"
      ]
     },
     "execution_count": 5,
     "metadata": {},
     "output_type": "execute_result"
    }
   ],
   "source": [
    "a=lambda x: True if x.isnumeric() else False\n",
    "a(s)"
   ]
  },
  {
   "cell_type": "code",
   "execution_count": 6,
   "id": "4e437da9-bb7c-4b79-9e96-560a0e154ce2",
   "metadata": {},
   "outputs": [
    {
     "data": {
      "text/plain": [
       "[('orange', 80), ('mango', 99), ('grapes', 1000)]"
      ]
     },
     "execution_count": 6,
     "metadata": {},
     "output_type": "execute_result"
    }
   ],
   "source": [
    "# Sort a list of tuples having fruit names and their quantity.\n",
    "l=[(\"mango\",99),(\"orange\",80), (\"grapes\", 1000)]\n",
    "sort = sorted(l,key = lambda s : s[1]) \n",
    "sort"
   ]
  },
  {
   "cell_type": "code",
   "execution_count": 7,
   "id": "8d0e7d72-12b6-456a-8c3c-10cbacfb9345",
   "metadata": {},
   "outputs": [
    {
     "data": {
      "text/plain": [
       "[1, 4, 9, 16, 25, 36, 49, 64, 81, 100]"
      ]
     },
     "execution_count": 7,
     "metadata": {},
     "output_type": "execute_result"
    }
   ],
   "source": [
    "# Find the squares of numbers from 1 to 10.\n",
    "list(map(lambda x: x**2,list(range(1,11))))"
   ]
  },
  {
   "cell_type": "code",
   "execution_count": 8,
   "id": "0f8a4655-5d15-4716-8d0a-b7663793a36f",
   "metadata": {},
   "outputs": [
    {
     "name": "stdout",
     "output_type": "stream",
     "text": [
      "[1.0, 1.2599210498948732, 1.4422495703074083, 1.5874010519681994, 1.7099759466766968, 1.8171205928321397, 1.912931182772389, 2.0, 2.080083823051904, 2.154434690031884]\n"
     ]
    }
   ],
   "source": [
    "# Find the cube root of numbers from 1 to 10.\n",
    "x=list(map(lambda x:x**(1/3),list(range(1,11))))\n",
    "print(x)"
   ]
  },
  {
   "cell_type": "code",
   "execution_count": 9,
   "id": "f8d240bf-b108-48f2-b385-6036ec1d2ab5",
   "metadata": {},
   "outputs": [
    {
     "name": "stdout",
     "output_type": "stream",
     "text": [
      "['Odd=1', 'Even=2', 'Odd=3', 'Even=4', 'Odd=5', 'Even=6', 'Odd=7', 'Even=8', 'Odd=9', 'Even=10']\n"
     ]
    }
   ],
   "source": [
    "# Check if a given number is even.\n",
    "#Ex:-1\n",
    "l=list(map(lambda x: f\"Even={x}\" if x%2==0 else f\"Odd={x}\" ,list(range(1,11))))\n",
    "print(l)"
   ]
  },
  {
   "cell_type": "code",
   "execution_count": null,
   "id": "d79162cd-92f1-4b3c-b62b-29230845623e",
   "metadata": {},
   "outputs": [],
   "source": [
    "#Ex:-2\n",
    "s=int(input(\"Inter a Numer\"))\n",
    "l=lambda x: \"Even\" if x%2==0 else \"Odd\"\n",
    "l(s)"
   ]
  },
  {
   "cell_type": "code",
   "execution_count": null,
   "id": "06dc7c22-131e-4d0a-bc74-9e3b63301777",
   "metadata": {},
   "outputs": [],
   "source": []
  }
 ],
 "metadata": {
  "kernelspec": {
   "display_name": "Python 3 (ipykernel)",
   "language": "python",
   "name": "python3"
  },
  "language_info": {
   "codemirror_mode": {
    "name": "ipython",
    "version": 3
   },
   "file_extension": ".py",
   "mimetype": "text/x-python",
   "name": "python",
   "nbconvert_exporter": "python",
   "pygments_lexer": "ipython3",
   "version": "3.10.8"
  }
 },
 "nbformat": 4,
 "nbformat_minor": 5
}
